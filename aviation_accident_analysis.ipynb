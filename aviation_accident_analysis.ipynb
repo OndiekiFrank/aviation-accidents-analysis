{
 "cells": [
  {
   "cell_type": "markdown",
   "metadata": {},
   "source": [
    "#  Aviation Accident Analysis (1962–2023)\n",
    "\n",
    "##  1. Business Understanding\n",
    "\n",
    "###  Project Overview\n",
    "\n",
    "A new company is preparing to enter the aviation industry and is currently in the **decision-making phase** regarding **fleet acquisition** and **operational planning**. While the industry presents immense opportunities for profit and expansion, **aviation safety** remains a primary concern. Aircraft accidents not only lead to the tragic loss of life but also cause severe reputational damage, legal implications, and financial losses. Therefore, minimizing the risk of such incidents is a **core strategic goal** for the company.\n",
    "\n",
    "This project aims to analyze over **60 years of aviation accident data** sourced from the **National Transportation Safety Board (NTSB)** to derive **data-driven insights** into:\n",
    "\n",
    "- The **root causes** of aviation accidents\n",
    "- The **types of aircraft** most involved in accidents\n",
    "- The **safest aircraft models and manufacturers**\n",
    "- Accident trends by **location**, **weather**, **phase of flight**, and **purpose of flight**\n",
    "- **Fatality rates** and the **severity** of different types of incidents\n",
    "\n",
    "### 🛠 Why This Analysis Matters\n",
    "\n",
    "Entering the aviation industry without understanding historical risks would be like flying blind. This analysis will help the business:\n",
    "\n",
    "1. **Reduce Risk Exposure**  \n",
    "   By identifying aircraft types or operational conditions that frequently result in accidents, the company can avoid investing in high-risk assets or routes.\n",
    "\n",
    "2. **Improve Procurement Strategy**  \n",
    "   With insights into the safest aircraft models, the business can make more **informed purchasing decisions** that prioritize **safety, performance, and reliability**.\n",
    "\n",
    "3. **Enhance Operational Safety Protocols**  \n",
    "   By understanding accident patterns across weather conditions, flight phases, and human factors, the company can design **training programs**, **safety checklists**, and **emergency response procedures** that mitigate risk.\n",
    "\n",
    "4. **Build Customer and Investor Trust**  \n",
    "   Demonstrating a strong, data-backed commitment to safety can **enhance the brand image**, foster **customer confidence**, and attract **investors or partners** seeking responsible operators.\n",
    "\n",
    "###  Business Questions We Aim to Answer\n",
    "\n",
    "- What are the **most common causes** of aviation accidents?\n",
    "- Which aircraft **types** and **manufacturers** are most often involved in fatal incidents?\n",
    "- Which **U.S. states** and **regions** have recorded the highest number of accidents?\n",
    "- How does accident frequency and severity vary by **flight type** (private, commercial, military)?\n",
    "- What are the trends in aviation safety over the years?\n",
    "- Which aircrafts or manufacturers have the **lowest accident-to-fatality ratio**, indicating better survivability?\n",
    "\n",
    "### Final Deliverables\n",
    "\n",
    "The findings of this project will be communicated via:\n",
    "\n",
    "- An **interactive dashboard** for stakeholder exploration\n",
    "- A **summary presentation** tailored to non-technical executives\n",
    "- A **recommendation report** on aircraft procurement\n",
    "- A clean, well-documented **GitHub repository** for transparency\n",
    "\n",
    "---\n",
    "\n",
    ">  This analysis goes beyond just numbers — it's a decision-making tool for the **future of aviation safety and investment**.\n"
   ]
  },
  {
   "cell_type": "markdown",
   "metadata": {},
   "source": [
    "#  2. Data Understanding\n",
    "\n",
    "In this section, we perform an initial exploration of the dataset to understand its structure, contents, and quality. This includes:\n",
    "- Viewing column names and data types\n",
    "- Previewing the first few records\n",
    "- Identifying missing values\n",
    "- Understanding the nature of each variable (categorical, numerical, textual)\n",
    "- Flagging early data quality issues such as duplicates, inconsistent formats, or suspicious values\n"
   ]
  },
  {
   "cell_type": "code",
   "execution_count": 13,
   "metadata": {},
   "outputs": [
    {
     "name": "stderr",
     "output_type": "stream",
     "text": [
      "/home/frank/anaconda3/envs/learn-env/lib/python3.8/site-packages/IPython/core/interactiveshell.py:3145: DtypeWarning: Columns (6,7,28) have mixed types.Specify dtype option on import or set low_memory=False.\n",
      "  has_raised = await self.run_ast_nodes(code_ast.body, cell_name,\n"
     ]
    },
    {
     "name": "stdout",
     "output_type": "stream",
     "text": [
      "✅ Data loaded: 88889 rows, 31 columns.\n",
      "\n",
      "🔍 First 5 records:\n",
      "         Event.Id Investigation.Type Accident.Number  Event.Date  \\\n",
      "0  20001218X45444           Accident      SEA87LA080  1948-10-24   \n",
      "1  20001218X45447           Accident      LAX94LA336  1962-07-19   \n",
      "2  20061025X01555           Accident      NYC07LA005  1974-08-30   \n",
      "3  20001218X45448           Accident      LAX96LA321  1977-06-19   \n",
      "4  20041105X01764           Accident      CHI79FA064  1979-08-02   \n",
      "\n",
      "          Location        Country Latitude Longitude Airport.Code  \\\n",
      "0  MOOSE CREEK, ID  United States      NaN       NaN          NaN   \n",
      "1   BRIDGEPORT, CA  United States      NaN       NaN          NaN   \n",
      "2    Saltville, VA  United States  36.9222  -81.8781          NaN   \n",
      "3       EUREKA, CA  United States      NaN       NaN          NaN   \n",
      "4       Canton, OH  United States      NaN       NaN          NaN   \n",
      "\n",
      "  Airport.Name Injury.Severity Aircraft.damage Aircraft.Category  \\\n",
      "0          NaN        Fatal(2)       Destroyed               NaN   \n",
      "1          NaN        Fatal(4)       Destroyed               NaN   \n",
      "2          NaN        Fatal(3)       Destroyed               NaN   \n",
      "3          NaN        Fatal(2)       Destroyed               NaN   \n",
      "4          NaN        Fatal(1)       Destroyed               NaN   \n",
      "\n",
      "  Registration.Number      Make     Model Amateur.Built  Number.of.Engines  \\\n",
      "0              NC6404   Stinson     108-3            No                1.0   \n",
      "1              N5069P     Piper  PA24-180            No                1.0   \n",
      "2              N5142R    Cessna      172M            No                1.0   \n",
      "3              N1168J  Rockwell       112            No                1.0   \n",
      "4               N15NY    Cessna       501            No                NaN   \n",
      "\n",
      "     Engine.Type FAR.Description Schedule Purpose.of.flight Air.carrier  \\\n",
      "0  Reciprocating             NaN      NaN          Personal         NaN   \n",
      "1  Reciprocating             NaN      NaN          Personal         NaN   \n",
      "2  Reciprocating             NaN      NaN          Personal         NaN   \n",
      "3  Reciprocating             NaN      NaN          Personal         NaN   \n",
      "4            NaN             NaN      NaN          Personal         NaN   \n",
      "\n",
      "   Total.Fatal.Injuries  Total.Serious.Injuries  Total.Minor.Injuries  \\\n",
      "0                   2.0                     0.0                   0.0   \n",
      "1                   4.0                     0.0                   0.0   \n",
      "2                   3.0                     NaN                   NaN   \n",
      "3                   2.0                     0.0                   0.0   \n",
      "4                   1.0                     2.0                   NaN   \n",
      "\n",
      "   Total.Uninjured Weather.Condition Broad.phase.of.flight   Report.Status  \\\n",
      "0              0.0               UNK                Cruise  Probable Cause   \n",
      "1              0.0               UNK               Unknown  Probable Cause   \n",
      "2              NaN               IMC                Cruise  Probable Cause   \n",
      "3              0.0               IMC                Cruise  Probable Cause   \n",
      "4              0.0               VMC              Approach  Probable Cause   \n",
      "\n",
      "  Publication.Date  \n",
      "0              NaN  \n",
      "1       19-09-1996  \n",
      "2       26-02-2007  \n",
      "3       12-09-2000  \n",
      "4       16-04-1980  \n",
      "\n",
      "🧾 Column data types:\n",
      "Event.Id                   object\n",
      "Investigation.Type         object\n",
      "Accident.Number            object\n",
      "Event.Date                 object\n",
      "Location                   object\n",
      "Country                    object\n",
      "Latitude                   object\n",
      "Longitude                  object\n",
      "Airport.Code               object\n",
      "Airport.Name               object\n",
      "Injury.Severity            object\n",
      "Aircraft.damage            object\n",
      "Aircraft.Category          object\n",
      "Registration.Number        object\n",
      "Make                       object\n",
      "Model                      object\n",
      "Amateur.Built              object\n",
      "Number.of.Engines         float64\n",
      "Engine.Type                object\n",
      "FAR.Description            object\n",
      "Schedule                   object\n",
      "Purpose.of.flight          object\n",
      "Air.carrier                object\n",
      "Total.Fatal.Injuries      float64\n",
      "Total.Serious.Injuries    float64\n",
      "Total.Minor.Injuries      float64\n",
      "Total.Uninjured           float64\n",
      "Weather.Condition          object\n",
      "Broad.phase.of.flight      object\n",
      "Report.Status              object\n",
      "Publication.Date           object\n",
      "dtype: object\n",
      "\n",
      "🧹 Missing values per column:\n",
      "Event.Id                      0\n",
      "Investigation.Type            0\n",
      "Accident.Number               0\n",
      "Event.Date                    0\n",
      "Location                     52\n",
      "Country                     226\n",
      "Latitude                  54507\n",
      "Longitude                 54516\n",
      "Airport.Code              38640\n",
      "Airport.Name              36099\n",
      "Injury.Severity            1000\n",
      "Aircraft.damage            3194\n",
      "Aircraft.Category         56602\n",
      "Registration.Number        1317\n",
      "Make                         63\n",
      "Model                        92\n",
      "Amateur.Built               102\n",
      "Number.of.Engines          6084\n",
      "Engine.Type                7077\n",
      "FAR.Description           56866\n",
      "Schedule                  76307\n",
      "Purpose.of.flight          6192\n",
      "Air.carrier               72241\n",
      "Total.Fatal.Injuries      11401\n",
      "Total.Serious.Injuries    12510\n",
      "Total.Minor.Injuries      11933\n",
      "Total.Uninjured            5912\n",
      "Weather.Condition          4492\n",
      "Broad.phase.of.flight     27165\n",
      "Report.Status              6381\n",
      "Publication.Date          13771\n",
      "dtype: int64\n",
      "\n",
      "🧬 Duplicate rows: 0\n"
     ]
    }
   ],
   "source": [
    "# Import essential libraries\n",
    "import pandas as pd\n",
    "import numpy as np\n",
    "\n",
    "# Increase display width to view all columns\n",
    "pd.set_option('display.max_columns', None)\n",
    "\n",
    "# Try loading with fallback encodings\n",
    "try:\n",
    "    df = pd.read_csv('data/AviationData.csv', encoding='utf-8')\n",
    "except UnicodeDecodeError:\n",
    "    try:\n",
    "        df = pd.read_csv('data/AviationData.csv', encoding='latin1')  # handles funky characters\n",
    "    except Exception as e:\n",
    "        print(\" Still can't load the dataset:\", e)\n",
    "        df = pd.DataFrame()  # create empty DataFrame to avoid crashing\n",
    "\n",
    "# Check if data loaded\n",
    "if not df.empty:\n",
    "    print(f\" Data loaded: {df.shape[0]} rows, {df.shape[1]} columns.\")\n",
    "\n",
    "    # Preview data\n",
    "    print(\"\\n First 5 records:\")\n",
    "    print(df.head())\n",
    "\n",
    "    # Column types\n",
    "    print(\"\\n Column data types:\")\n",
    "    print(df.dtypes)\n",
    "\n",
    "    # Missing values\n",
    "    print(\"\\n Missing values per column:\")\n",
    "    print(df.isnull().sum())\n",
    "\n",
    "    # Duplicates\n",
    "    print(\"\\n Duplicate rows:\", df.duplicated().sum())\n",
    "else:\n",
    "    print(\" No data to explore.\")\n"
   ]
  },
  {
   "cell_type": "markdown",
   "metadata": {},
   "source": [
    "## Step 3: Data Preparation\n",
    "### Objective:\n",
    "Clean and prepare the AviationData.csv dataset to ensure it's free of:\n",
    "\n",
    "Missing/null values\n",
    "\n",
    "Duplicates\n",
    "\n",
    "Incorrect data types"
   ]
  },
  {
   "cell_type": "markdown",
   "metadata": {},
   "source": [
    "### (i) Check for Null Values\n",
    "We begin by inspecting the dataset for missing values using .isnull().sum(). This helps us identify columns that may require imputation or removal, depending on the percentage of missing data and its relevance to our analysis."
   ]
  },
  {
   "cell_type": "code",
   "execution_count": 14,
   "metadata": {},
   "outputs": [
    {
     "data": {
      "text/plain": [
       "Schedule                  76307\n",
       "Air.carrier               72241\n",
       "FAR.Description           56866\n",
       "Aircraft.Category         56602\n",
       "Longitude                 54516\n",
       "Latitude                  54507\n",
       "Airport.Code              38640\n",
       "Airport.Name              36099\n",
       "Broad.phase.of.flight     27165\n",
       "Publication.Date          13771\n",
       "Total.Serious.Injuries    12510\n",
       "Total.Minor.Injuries      11933\n",
       "Total.Fatal.Injuries      11401\n",
       "Engine.Type                7077\n",
       "Report.Status              6381\n",
       "Purpose.of.flight          6192\n",
       "Number.of.Engines          6084\n",
       "Total.Uninjured            5912\n",
       "Weather.Condition          4492\n",
       "Aircraft.damage            3194\n",
       "Registration.Number        1317\n",
       "Injury.Severity            1000\n",
       "Country                     226\n",
       "Amateur.Built               102\n",
       "Model                        92\n",
       "Make                         63\n",
       "Location                     52\n",
       "dtype: int64"
      ]
     },
     "execution_count": 14,
     "metadata": {},
     "output_type": "execute_result"
    }
   ],
   "source": [
    "#  Check for null values across all columns\n",
    "null_counts = df.isnull().sum().sort_values(ascending=False)\n",
    "\n",
    "#  Display columns with the highest number of missing values\n",
    "null_counts[null_counts > 0]\n"
   ]
  },
  {
   "cell_type": "markdown",
   "metadata": {},
   "source": [
    "### Drop Columns with Too Many Nulls"
   ]
  },
  {
   "cell_type": "code",
   "execution_count": 15,
   "metadata": {},
   "outputs": [
    {
     "data": {
      "text/plain": [
       "'\\nWe drop columns with more than 50% missing values, as they provide limited analytical value\\nand could introduce noise or misleading patterns if imputed poorly.\\n'"
      ]
     },
     "execution_count": 15,
     "metadata": {},
     "output_type": "execute_result"
    }
   ],
   "source": [
    "# Drop columns with more than 50% missing data\n",
    "threshold = len(df) * 0.5\n",
    "cols_to_drop = df.columns[df.isnull().sum() > threshold]\n",
    "\n",
    "df.drop(columns=cols_to_drop, inplace=True)\n",
    "\n",
    "\"\"\"\n",
    "We drop columns with more than 50% missing values, as they provide limited analytical value\n",
    "and could introduce noise or misleading patterns if imputed poorly.\n",
    "\"\"\"\n"
   ]
  },
  {
   "cell_type": "markdown",
   "metadata": {},
   "source": [
    "### Fill Injury Columns with 0"
   ]
  },
  {
   "cell_type": "code",
   "execution_count": 16,
   "metadata": {},
   "outputs": [
    {
     "data": {
      "text/plain": [
       "'\\nInjury-related fields are often null when no injuries were reported.\\nFilling with 0 prevents distortion in statistics and allows for accurate injury analysis.\\n'"
      ]
     },
     "execution_count": 16,
     "metadata": {},
     "output_type": "execute_result"
    }
   ],
   "source": [
    "# Fill injury-related nulls with 0 assuming no injury occurred\n",
    "injury_cols = [\n",
    "    'Total.Fatal.Injuries', \n",
    "    'Total.Serious.Injuries', \n",
    "    'Total.Minor.Injuries', \n",
    "    'Total.Uninjured'\n",
    "]\n",
    "\n",
    "df[injury_cols] = df[injury_cols].fillna(0)\n",
    "\n",
    "\"\"\"\n",
    "Injury-related fields are often null when no injuries were reported.\n",
    "Filling with 0 prevents distortion in statistics and allows for accurate injury analysis.\n",
    "\"\"\"\n"
   ]
  },
  {
   "cell_type": "code",
   "execution_count": null,
   "metadata": {},
   "outputs": [],
   "source": []
  }
 ],
 "metadata": {
  "kernelspec": {
   "display_name": "Python (learn-env)",
   "language": "python",
   "name": "learn-env"
  },
  "language_info": {
   "codemirror_mode": {
    "name": "ipython",
    "version": 3
   },
   "file_extension": ".py",
   "mimetype": "text/x-python",
   "name": "python",
   "nbconvert_exporter": "python",
   "pygments_lexer": "ipython3",
   "version": "3.8.5"
  }
 },
 "nbformat": 4,
 "nbformat_minor": 4
}

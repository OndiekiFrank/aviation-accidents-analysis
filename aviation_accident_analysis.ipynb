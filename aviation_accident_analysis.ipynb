{
 "cells": [
  {
   "cell_type": "markdown",
   "metadata": {},
   "source": [
    "#  Aviation Accident Analysis (1962–2023)\n",
    "\n",
    "##  1. Business Understanding\n",
    "\n",
    "###  Project Overview\n",
    "\n",
    "A new company is preparing to enter the aviation industry and is currently in the **decision-making phase** regarding **fleet acquisition** and **operational planning**. While the industry presents immense opportunities for profit and expansion, **aviation safety** remains a primary concern. Aircraft accidents not only lead to the tragic loss of life but also cause severe reputational damage, legal implications, and financial losses. Therefore, minimizing the risk of such incidents is a **core strategic goal** for the company.\n",
    "\n",
    "This project aims to analyze over **60 years of aviation accident data** sourced from the **National Transportation Safety Board (NTSB)** to derive **data-driven insights** into:\n",
    "\n",
    "- The **root causes** of aviation accidents\n",
    "- The **types of aircraft** most involved in accidents\n",
    "- The **safest aircraft models and manufacturers**\n",
    "- Accident trends by **location**, **weather**, **phase of flight**, and **purpose of flight**\n",
    "- **Fatality rates** and the **severity** of different types of incidents\n",
    "\n",
    "### 🛠 Why This Analysis Matters\n",
    "\n",
    "Entering the aviation industry without understanding historical risks would be like flying blind. This analysis will help the business:\n",
    "\n",
    "1. **Reduce Risk Exposure**  \n",
    "   By identifying aircraft types or operational conditions that frequently result in accidents, the company can avoid investing in high-risk assets or routes.\n",
    "\n",
    "2. **Improve Procurement Strategy**  \n",
    "   With insights into the safest aircraft models, the business can make more **informed purchasing decisions** that prioritize **safety, performance, and reliability**.\n",
    "\n",
    "3. **Enhance Operational Safety Protocols**  \n",
    "   By understanding accident patterns across weather conditions, flight phases, and human factors, the company can design **training programs**, **safety checklists**, and **emergency response procedures** that mitigate risk.\n",
    "\n",
    "4. **Build Customer and Investor Trust**  \n",
    "   Demonstrating a strong, data-backed commitment to safety can **enhance the brand image**, foster **customer confidence**, and attract **investors or partners** seeking responsible operators.\n",
    "\n",
    "###  Business Questions We Aim to Answer\n",
    "\n",
    "- What are the **most common causes** of aviation accidents?\n",
    "- Which aircraft **types** and **manufacturers** are most often involved in fatal incidents?\n",
    "- Which **U.S. states** and **regions** have recorded the highest number of accidents?\n",
    "- How does accident frequency and severity vary by **flight type** (private, commercial, military)?\n",
    "- What are the trends in aviation safety over the years?\n",
    "- Which aircrafts or manufacturers have the **lowest accident-to-fatality ratio**, indicating better survivability?\n",
    "\n",
    "### Final Deliverables\n",
    "\n",
    "The findings of this project will be communicated via:\n",
    "\n",
    "- An **interactive dashboard** for stakeholder exploration\n",
    "- A **summary presentation** tailored to non-technical executives\n",
    "- A **recommendation report** on aircraft procurement\n",
    "- A clean, well-documented **GitHub repository** for transparency\n",
    "\n",
    "---\n",
    "\n",
    ">  This analysis goes beyond just numbers — it's a decision-making tool for the **future of aviation safety and investment**.\n"
   ]
  },
  {
   "cell_type": "markdown",
   "metadata": {},
   "source": [
    "#  2. Data Understanding\n",
    "\n",
    "In this section, we perform an initial exploration of the dataset to understand its structure, contents, and quality. This includes:\n",
    "- Viewing column names and data types\n",
    "- Previewing the first few records\n",
    "- Identifying missing values\n",
    "- Understanding the nature of each variable (categorical, numerical, textual)\n",
    "- Flagging early data quality issues such as duplicates, inconsistent formats, or suspicious values\n"
   ]
  },
  {
   "cell_type": "code",
   "execution_count": 13,
   "metadata": {},
   "outputs": [
    {
     "name": "stderr",
     "output_type": "stream",
     "text": [
      "/home/frank/anaconda3/envs/learn-env/lib/python3.8/site-packages/IPython/core/interactiveshell.py:3145: DtypeWarning: Columns (6,7,28) have mixed types.Specify dtype option on import or set low_memory=False.\n",
      "  has_raised = await self.run_ast_nodes(code_ast.body, cell_name,\n"
     ]
    },
    {
     "name": "stdout",
     "output_type": "stream",
     "text": [
      "✅ Data loaded: 88889 rows, 31 columns.\n",
      "\n",
      "🔍 First 5 records:\n",
      "         Event.Id Investigation.Type Accident.Number  Event.Date  \\\n",
      "0  20001218X45444           Accident      SEA87LA080  1948-10-24   \n",
      "1  20001218X45447           Accident      LAX94LA336  1962-07-19   \n",
      "2  20061025X01555           Accident      NYC07LA005  1974-08-30   \n",
      "3  20001218X45448           Accident      LAX96LA321  1977-06-19   \n",
      "4  20041105X01764           Accident      CHI79FA064  1979-08-02   \n",
      "\n",
      "          Location        Country Latitude Longitude Airport.Code  \\\n",
      "0  MOOSE CREEK, ID  United States      NaN       NaN          NaN   \n",
      "1   BRIDGEPORT, CA  United States      NaN       NaN          NaN   \n",
      "2    Saltville, VA  United States  36.9222  -81.8781          NaN   \n",
      "3       EUREKA, CA  United States      NaN       NaN          NaN   \n",
      "4       Canton, OH  United States      NaN       NaN          NaN   \n",
      "\n",
      "  Airport.Name Injury.Severity Aircraft.damage Aircraft.Category  \\\n",
      "0          NaN        Fatal(2)       Destroyed               NaN   \n",
      "1          NaN        Fatal(4)       Destroyed               NaN   \n",
      "2          NaN        Fatal(3)       Destroyed               NaN   \n",
      "3          NaN        Fatal(2)       Destroyed               NaN   \n",
      "4          NaN        Fatal(1)       Destroyed               NaN   \n",
      "\n",
      "  Registration.Number      Make     Model Amateur.Built  Number.of.Engines  \\\n",
      "0              NC6404   Stinson     108-3            No                1.0   \n",
      "1              N5069P     Piper  PA24-180            No                1.0   \n",
      "2              N5142R    Cessna      172M            No                1.0   \n",
      "3              N1168J  Rockwell       112            No                1.0   \n",
      "4               N15NY    Cessna       501            No                NaN   \n",
      "\n",
      "     Engine.Type FAR.Description Schedule Purpose.of.flight Air.carrier  \\\n",
      "0  Reciprocating             NaN      NaN          Personal         NaN   \n",
      "1  Reciprocating             NaN      NaN          Personal         NaN   \n",
      "2  Reciprocating             NaN      NaN          Personal         NaN   \n",
      "3  Reciprocating             NaN      NaN          Personal         NaN   \n",
      "4            NaN             NaN      NaN          Personal         NaN   \n",
      "\n",
      "   Total.Fatal.Injuries  Total.Serious.Injuries  Total.Minor.Injuries  \\\n",
      "0                   2.0                     0.0                   0.0   \n",
      "1                   4.0                     0.0                   0.0   \n",
      "2                   3.0                     NaN                   NaN   \n",
      "3                   2.0                     0.0                   0.0   \n",
      "4                   1.0                     2.0                   NaN   \n",
      "\n",
      "   Total.Uninjured Weather.Condition Broad.phase.of.flight   Report.Status  \\\n",
      "0              0.0               UNK                Cruise  Probable Cause   \n",
      "1              0.0               UNK               Unknown  Probable Cause   \n",
      "2              NaN               IMC                Cruise  Probable Cause   \n",
      "3              0.0               IMC                Cruise  Probable Cause   \n",
      "4              0.0               VMC              Approach  Probable Cause   \n",
      "\n",
      "  Publication.Date  \n",
      "0              NaN  \n",
      "1       19-09-1996  \n",
      "2       26-02-2007  \n",
      "3       12-09-2000  \n",
      "4       16-04-1980  \n",
      "\n",
      "🧾 Column data types:\n",
      "Event.Id                   object\n",
      "Investigation.Type         object\n",
      "Accident.Number            object\n",
      "Event.Date                 object\n",
      "Location                   object\n",
      "Country                    object\n",
      "Latitude                   object\n",
      "Longitude                  object\n",
      "Airport.Code               object\n",
      "Airport.Name               object\n",
      "Injury.Severity            object\n",
      "Aircraft.damage            object\n",
      "Aircraft.Category          object\n",
      "Registration.Number        object\n",
      "Make                       object\n",
      "Model                      object\n",
      "Amateur.Built              object\n",
      "Number.of.Engines         float64\n",
      "Engine.Type                object\n",
      "FAR.Description            object\n",
      "Schedule                   object\n",
      "Purpose.of.flight          object\n",
      "Air.carrier                object\n",
      "Total.Fatal.Injuries      float64\n",
      "Total.Serious.Injuries    float64\n",
      "Total.Minor.Injuries      float64\n",
      "Total.Uninjured           float64\n",
      "Weather.Condition          object\n",
      "Broad.phase.of.flight      object\n",
      "Report.Status              object\n",
      "Publication.Date           object\n",
      "dtype: object\n",
      "\n",
      "🧹 Missing values per column:\n",
      "Event.Id                      0\n",
      "Investigation.Type            0\n",
      "Accident.Number               0\n",
      "Event.Date                    0\n",
      "Location                     52\n",
      "Country                     226\n",
      "Latitude                  54507\n",
      "Longitude                 54516\n",
      "Airport.Code              38640\n",
      "Airport.Name              36099\n",
      "Injury.Severity            1000\n",
      "Aircraft.damage            3194\n",
      "Aircraft.Category         56602\n",
      "Registration.Number        1317\n",
      "Make                         63\n",
      "Model                        92\n",
      "Amateur.Built               102\n",
      "Number.of.Engines          6084\n",
      "Engine.Type                7077\n",
      "FAR.Description           56866\n",
      "Schedule                  76307\n",
      "Purpose.of.flight          6192\n",
      "Air.carrier               72241\n",
      "Total.Fatal.Injuries      11401\n",
      "Total.Serious.Injuries    12510\n",
      "Total.Minor.Injuries      11933\n",
      "Total.Uninjured            5912\n",
      "Weather.Condition          4492\n",
      "Broad.phase.of.flight     27165\n",
      "Report.Status              6381\n",
      "Publication.Date          13771\n",
      "dtype: int64\n",
      "\n",
      "🧬 Duplicate rows: 0\n"
     ]
    }
   ],
   "source": [
    "# Import essential libraries\n",
    "import pandas as pd\n",
    "import numpy as np\n",
    "\n",
    "# Increase display width to view all columns\n",
    "pd.set_option('display.max_columns', None)\n",
    "\n",
    "# Try loading with fallback encodings\n",
    "try:\n",
    "    df = pd.read_csv('data/AviationData.csv', encoding='utf-8')\n",
    "except UnicodeDecodeError:\n",
    "    try:\n",
    "        df = pd.read_csv('data/AviationData.csv', encoding='latin1')  # handles funky characters\n",
    "    except Exception as e:\n",
    "        print(\" Still can't load the dataset:\", e)\n",
    "        df = pd.DataFrame()  # create empty DataFrame to avoid crashing\n",
    "\n",
    "# Check if data loaded\n",
    "if not df.empty:\n",
    "    print(f\" Data loaded: {df.shape[0]} rows, {df.shape[1]} columns.\")\n",
    "\n",
    "    # Preview data\n",
    "    print(\"\\n First 5 records:\")\n",
    "    print(df.head())\n",
    "\n",
    "    # Column types\n",
    "    print(\"\\n Column data types:\")\n",
    "    print(df.dtypes)\n",
    "\n",
    "    # Missing values\n",
    "    print(\"\\n Missing values per column:\")\n",
    "    print(df.isnull().sum())\n",
    "\n",
    "    # Duplicates\n",
    "    print(\"\\n Duplicate rows:\", df.duplicated().sum())\n",
    "else:\n",
    "    print(\" No data to explore.\")\n"
   ]
  },
  {
   "cell_type": "markdown",
   "metadata": {},
   "source": [
    "## Step 3: Data Preparation\n",
    "### Objective:\n",
    "Clean and prepare the AviationData.csv dataset to ensure it's free of:\n",
    "\n",
    "Missing/null values\n",
    "\n",
    "Duplicates\n",
    "\n",
    "Incorrect data types"
   ]
  },
  {
   "cell_type": "markdown",
   "metadata": {},
   "source": [
    "### (i) Check for Null Values\n",
    "We begin by inspecting the dataset for missing values using .isnull().sum(). This helps us identify columns that may require imputation or removal, depending on the percentage of missing data and its relevance to our analysis."
   ]
  },
  {
   "cell_type": "code",
   "execution_count": 14,
   "metadata": {},
   "outputs": [
    {
     "data": {
      "text/plain": [
       "Schedule                  76307\n",
       "Air.carrier               72241\n",
       "FAR.Description           56866\n",
       "Aircraft.Category         56602\n",
       "Longitude                 54516\n",
       "Latitude                  54507\n",
       "Airport.Code              38640\n",
       "Airport.Name              36099\n",
       "Broad.phase.of.flight     27165\n",
       "Publication.Date          13771\n",
       "Total.Serious.Injuries    12510\n",
       "Total.Minor.Injuries      11933\n",
       "Total.Fatal.Injuries      11401\n",
       "Engine.Type                7077\n",
       "Report.Status              6381\n",
       "Purpose.of.flight          6192\n",
       "Number.of.Engines          6084\n",
       "Total.Uninjured            5912\n",
       "Weather.Condition          4492\n",
       "Aircraft.damage            3194\n",
       "Registration.Number        1317\n",
       "Injury.Severity            1000\n",
       "Country                     226\n",
       "Amateur.Built               102\n",
       "Model                        92\n",
       "Make                         63\n",
       "Location                     52\n",
       "dtype: int64"
      ]
     },
     "execution_count": 14,
     "metadata": {},
     "output_type": "execute_result"
    }
   ],
   "source": [
    "#  Check for null values across all columns\n",
    "null_counts = df.isnull().sum().sort_values(ascending=False)\n",
    "\n",
    "#  Display columns with the highest number of missing values\n",
    "null_counts[null_counts > 0]\n"
   ]
  },
  {
   "cell_type": "markdown",
   "metadata": {},
   "source": [
    "### Drop Columns with Too Many Nulls"
   ]
  },
  {
   "cell_type": "code",
   "execution_count": 15,
   "metadata": {},
   "outputs": [
    {
     "data": {
      "text/plain": [
       "'\\nWe drop columns with more than 50% missing values, as they provide limited analytical value\\nand could introduce noise or misleading patterns if imputed poorly.\\n'"
      ]
     },
     "execution_count": 15,
     "metadata": {},
     "output_type": "execute_result"
    }
   ],
   "source": [
    "# Drop columns with more than 50% missing data\n",
    "threshold = len(df) * 0.5\n",
    "cols_to_drop = df.columns[df.isnull().sum() > threshold]\n",
    "\n",
    "df.drop(columns=cols_to_drop, inplace=True)\n",
    "\n",
    "\"\"\"\n",
    "We drop columns with more than 50% missing values, as they provide limited analytical value\n",
    "and could introduce noise or misleading patterns if imputed poorly.\n",
    "\"\"\"\n"
   ]
  },
  {
   "cell_type": "markdown",
   "metadata": {},
   "source": [
    "### Fill Injury Columns with 0"
   ]
  },
  {
   "cell_type": "code",
   "execution_count": 16,
   "metadata": {},
   "outputs": [
    {
     "data": {
      "text/plain": [
       "'\\nInjury-related fields are often null when no injuries were reported.\\nFilling with 0 prevents distortion in statistics and allows for accurate injury analysis.\\n'"
      ]
     },
     "execution_count": 16,
     "metadata": {},
     "output_type": "execute_result"
    }
   ],
   "source": [
    "# Fill injury-related nulls with 0 assuming no injury occurred\n",
    "injury_cols = [\n",
    "    'Total.Fatal.Injuries', \n",
    "    'Total.Serious.Injuries', \n",
    "    'Total.Minor.Injuries', \n",
    "    'Total.Uninjured'\n",
    "]\n",
    "\n",
    "df[injury_cols] = df[injury_cols].fillna(0)\n",
    "\n",
    "\"\"\"\n",
    "Injury-related fields are often null when no injuries were reported.\n",
    "Filling with 0 prevents distortion in statistics and allows for accurate injury analysis.\n",
    "\"\"\"\n"
   ]
  },
  {
   "cell_type": "markdown",
   "metadata": {},
   "source": [
    "### Fill Categorical Nulls with 'Unknown' or Mode"
   ]
  },
  {
   "cell_type": "code",
   "execution_count": 17,
   "metadata": {},
   "outputs": [
    {
     "data": {
      "text/plain": [
       "\"\\nUsing mode (most common value) ensures we don't introduce unrealistic categories while maintaining consistency.\\n\""
      ]
     },
     "execution_count": 17,
     "metadata": {},
     "output_type": "execute_result"
    }
   ],
   "source": [
    "#  Fill categorical columns with 'Unknown' or most frequent category (mode)\n",
    "categorical_cols = [\n",
    "    'Aircraft.damage', \n",
    "    'Weather.Condition', \n",
    "    'Purpose.of.flight', \n",
    "    'Engine.Type', \n",
    "    'Report.Status',\n",
    "    'Amateur.Built',\n",
    "    'Country',\n",
    "    'Make',\n",
    "    'Model',\n",
    "    'Injury.Severity',\n",
    "    'Location',\n",
    "    'Registration.Number'\n",
    "]\n",
    "\n",
    "for col in categorical_cols:\n",
    "    if df[col].isnull().sum() > 0:\n",
    "        most_frequent = df[col].mode()[0]\n",
    "        df[col].fillna(most_frequent, inplace=True)\n",
    "\n",
    "\"\"\"\n",
    "Using mode (most common value) ensures we don't introduce unrealistic categories while maintaining consistency.\n",
    "\"\"\"\n"
   ]
  },
  {
   "cell_type": "markdown",
   "metadata": {},
   "source": [
    "### Final Null Check"
   ]
  },
  {
   "cell_type": "code",
   "execution_count": 18,
   "metadata": {},
   "outputs": [
    {
     "data": {
      "text/plain": [
       "Airport.Code              38640\n",
       "Airport.Name              36099\n",
       "Broad.phase.of.flight     27165\n",
       "Publication.Date          13771\n",
       "Number.of.Engines          6084\n",
       "Registration.Number           0\n",
       "Investigation.Type            0\n",
       "Accident.Number               0\n",
       "Event.Date                    0\n",
       "Location                      0\n",
       "Country                       0\n",
       "Injury.Severity               0\n",
       "Aircraft.damage               0\n",
       "Model                         0\n",
       "Make                          0\n",
       "Report.Status                 0\n",
       "Amateur.Built                 0\n",
       "Engine.Type                   0\n",
       "Purpose.of.flight             0\n",
       "Total.Fatal.Injuries          0\n",
       "Total.Serious.Injuries        0\n",
       "Total.Minor.Injuries          0\n",
       "Total.Uninjured               0\n",
       "Weather.Condition             0\n",
       "Event.Id                      0\n",
       "dtype: int64"
      ]
     },
     "execution_count": 18,
     "metadata": {},
     "output_type": "execute_result"
    }
   ],
   "source": [
    "# Verify no null values remain\n",
    "df.isnull().sum().sort_values(ascending=False)\n"
   ]
  },
  {
   "cell_type": "markdown",
   "metadata": {},
   "source": [
    "### Fill 'Number.of.Engines' with Median"
   ]
  },
  {
   "cell_type": "code",
   "execution_count": 19,
   "metadata": {},
   "outputs": [
    {
     "data": {
      "text/plain": [
       "'\\nUsing median reduces distortion from outliers in numeric fields like engine counts.\\n'"
      ]
     },
     "execution_count": 19,
     "metadata": {},
     "output_type": "execute_result"
    }
   ],
   "source": [
    "# Fill 'Number.of.Engines' with median (suitable for skewed numeric fields)\n",
    "median_engines = df['Number.of.Engines'].median()\n",
    "df['Number.of.Engines'].fillna(median_engines, inplace=True)\n",
    "\n",
    "\"\"\"\n",
    "Using median reduces distortion from outliers in numeric fields like engine counts.\n",
    "\"\"\"\n"
   ]
  },
  {
   "cell_type": "markdown",
   "metadata": {},
   "source": [
    "### Fill 'Broad.phase.of.flight' and 'Publication.Date' with Mode"
   ]
  },
  {
   "cell_type": "code",
   "execution_count": 20,
   "metadata": {},
   "outputs": [
    {
     "data": {
      "text/plain": [
       "'\\nThese fields help describe accident dynamics and timelines, so we impute conservatively using the mode.\\n'"
      ]
     },
     "execution_count": 20,
     "metadata": {},
     "output_type": "execute_result"
    }
   ],
   "source": [
    "# These fields are informative for accident context, so fill with mode\n",
    "df['Broad.phase.of.flight'].fillna(df['Broad.phase.of.flight'].mode()[0], inplace=True)\n",
    "df['Publication.Date'].fillna(df['Publication.Date'].mode()[0], inplace=True)\n",
    "\n",
    "\"\"\"\n",
    "These fields help describe accident dynamics and timelines, so we impute conservatively using the mode.\n",
    "\"\"\"\n"
   ]
  },
  {
   "cell_type": "markdown",
   "metadata": {},
   "source": [
    "### Drop 'Airport.Code' and 'Airport.Name'"
   ]
  },
  {
   "cell_type": "code",
   "execution_count": 21,
   "metadata": {},
   "outputs": [
    {
     "data": {
      "text/plain": [
       "'\\nAirport-specific fields are not central to aircraft safety patterns and have too many missing values for reliable use.\\n'"
      ]
     },
     "execution_count": 21,
     "metadata": {},
     "output_type": "execute_result"
    }
   ],
   "source": [
    "# Drop airport info due to high nulls and limited value for core risk analysis\n",
    "df.drop(columns=['Airport.Code', 'Airport.Name'], inplace=True)\n",
    "\n",
    "\"\"\"\n",
    "Airport-specific fields are not central to aircraft safety patterns and have too many missing values for reliable use.\n",
    "\"\"\"\n"
   ]
  },
  {
   "cell_type": "markdown",
   "metadata": {},
   "source": [
    "### Final Null & Structure Check"
   ]
  },
  {
   "cell_type": "code",
   "execution_count": 22,
   "metadata": {},
   "outputs": [
    {
     "name": "stdout",
     "output_type": "stream",
     "text": [
      "Remaining nulls:\n",
      " Publication.Date          0\n",
      "Model                     0\n",
      "Investigation.Type        0\n",
      "Accident.Number           0\n",
      "Event.Date                0\n",
      "Location                  0\n",
      "Country                   0\n",
      "Injury.Severity           0\n",
      "Aircraft.damage           0\n",
      "Registration.Number       0\n",
      "Make                      0\n",
      "Amateur.Built             0\n",
      "Report.Status             0\n",
      "Number.of.Engines         0\n",
      "Engine.Type               0\n",
      "Purpose.of.flight         0\n",
      "Total.Fatal.Injuries      0\n",
      "Total.Serious.Injuries    0\n",
      "Total.Minor.Injuries      0\n",
      "Total.Uninjured           0\n",
      "Weather.Condition         0\n",
      "Broad.phase.of.flight     0\n",
      "Event.Id                  0\n",
      "dtype: int64\n",
      "\n",
      "Dataset shape: (88889, 23)\n",
      "<class 'pandas.core.frame.DataFrame'>\n",
      "RangeIndex: 88889 entries, 0 to 88888\n",
      "Data columns (total 23 columns):\n",
      " #   Column                  Non-Null Count  Dtype  \n",
      "---  ------                  --------------  -----  \n",
      " 0   Event.Id                88889 non-null  object \n",
      " 1   Investigation.Type      88889 non-null  object \n",
      " 2   Accident.Number         88889 non-null  object \n",
      " 3   Event.Date              88889 non-null  object \n",
      " 4   Location                88889 non-null  object \n",
      " 5   Country                 88889 non-null  object \n",
      " 6   Injury.Severity         88889 non-null  object \n",
      " 7   Aircraft.damage         88889 non-null  object \n",
      " 8   Registration.Number     88889 non-null  object \n",
      " 9   Make                    88889 non-null  object \n",
      " 10  Model                   88889 non-null  object \n",
      " 11  Amateur.Built           88889 non-null  object \n",
      " 12  Number.of.Engines       88889 non-null  float64\n",
      " 13  Engine.Type             88889 non-null  object \n",
      " 14  Purpose.of.flight       88889 non-null  object \n",
      " 15  Total.Fatal.Injuries    88889 non-null  float64\n",
      " 16  Total.Serious.Injuries  88889 non-null  float64\n",
      " 17  Total.Minor.Injuries    88889 non-null  float64\n",
      " 18  Total.Uninjured         88889 non-null  float64\n",
      " 19  Weather.Condition       88889 non-null  object \n",
      " 20  Broad.phase.of.flight   88889 non-null  object \n",
      " 21  Report.Status           88889 non-null  object \n",
      " 22  Publication.Date        88889 non-null  object \n",
      "dtypes: float64(5), object(18)\n",
      "memory usage: 15.6+ MB\n"
     ]
    }
   ],
   "source": [
    "#Re-confirm no remaining nulls\n",
    "print(\"Remaining nulls:\\n\", df.isnull().sum().sort_values(ascending=False))\n",
    "\n",
    "# 🔍 Check shape and column overview\n",
    "print(f\"\\nDataset shape: {df.shape}\")\n",
    "df.info()\n"
   ]
  },
  {
   "cell_type": "markdown",
   "metadata": {},
   "source": [
    "### (ii) Handle Duplicates\n",
    "Duplicate rows can introduce bias and skew statistical summaries. After checking for duplicates using .duplicated(), we drop them with .drop_duplicates() to ensure data integrity."
   ]
  },
  {
   "cell_type": "code",
   "execution_count": 24,
   "metadata": {},
   "outputs": [
    {
     "name": "stdout",
     "output_type": "stream",
     "text": [
      "Duplicate rows: 0\n"
     ]
    }
   ],
   "source": [
    "#  Check for duplicate rows\n",
    "duplicate_count = df.duplicated().sum()\n",
    "print(f\"Duplicate rows: {duplicate_count}\")\n",
    "\n",
    "# Drop duplicate rows, if any\n",
    "df.drop_duplicates(inplace=True)\n"
   ]
  },
  {
   "cell_type": "markdown",
   "metadata": {},
   "source": [
    "### (iii) Inspect and Correct Data Types\n",
    "Date columns should be in datetime64 format for time-based analysis. We use pd.to_datetime() with errors='coerce' to safely convert and handle invalid entries."
   ]
  },
  {
   "cell_type": "code",
   "execution_count": 27,
   "metadata": {},
   "outputs": [
    {
     "data": {
      "text/plain": [
       "\"\\nWe convert 'Event.Date' and 'Publication.Date' to datetime format so we can analyze trends over time.\\nWe use errors='coerce' to safely handle any invalid date entries by converting them to NaT (Not a Time).\\n\""
      ]
     },
     "execution_count": 27,
     "metadata": {},
     "output_type": "execute_result"
    }
   ],
   "source": [
    "#  Check current data types\n",
    "df.dtypes\n",
    "\n",
    "# Convert date columns to datetime format\n",
    "df['Event.Date'] = pd.to_datetime(df['Event.Date'], errors='coerce')\n",
    "df['Publication.Date'] = pd.to_datetime(df['Publication.Date'], errors='coerce')\n",
    "\n",
    "\"\"\"\n",
    "We convert 'Event.Date' and 'Publication.Date' to datetime format so we can analyze trends over time.\n",
    "We use errors='coerce' to safely handle any invalid date entries by converting them to NaT (Not a Time).\n",
    "\"\"\"\n",
    "    \n"
   ]
  },
  {
   "cell_type": "markdown",
   "metadata": {},
   "source": [
    "### (iv) Final Sanity Check"
   ]
  },
  {
   "cell_type": "code",
   "execution_count": 28,
   "metadata": {},
   "outputs": [
    {
     "name": "stdout",
     "output_type": "stream",
     "text": [
      "Remaining null values:\n",
      " Publication.Date          0\n",
      "Model                     0\n",
      "Investigation.Type        0\n",
      "Accident.Number           0\n",
      "Event.Date                0\n",
      "Location                  0\n",
      "Country                   0\n",
      "Injury.Severity           0\n",
      "Aircraft.damage           0\n",
      "Registration.Number       0\n",
      "Make                      0\n",
      "Amateur.Built             0\n",
      "Report.Status             0\n",
      "Number.of.Engines         0\n",
      "Engine.Type               0\n",
      "Purpose.of.flight         0\n",
      "Total.Fatal.Injuries      0\n",
      "Total.Serious.Injuries    0\n",
      "Total.Minor.Injuries      0\n",
      "Total.Uninjured           0\n",
      "Weather.Condition         0\n",
      "Broad.phase.of.flight     0\n",
      "Event.Id                  0\n",
      "dtype: int64\n",
      "\n",
      "Updated data types:\n",
      " Event.Id                          object\n",
      "Investigation.Type                object\n",
      "Accident.Number                   object\n",
      "Event.Date                datetime64[ns]\n",
      "Location                          object\n",
      "Country                           object\n",
      "Injury.Severity                   object\n",
      "Aircraft.damage                   object\n",
      "Registration.Number               object\n",
      "Make                              object\n",
      "Model                             object\n",
      "Amateur.Built                     object\n",
      "Number.of.Engines                float64\n",
      "Engine.Type                       object\n",
      "Purpose.of.flight                 object\n",
      "Total.Fatal.Injuries             float64\n",
      "Total.Serious.Injuries           float64\n",
      "Total.Minor.Injuries             float64\n",
      "Total.Uninjured                  float64\n",
      "Weather.Condition                 object\n",
      "Broad.phase.of.flight             object\n",
      "Report.Status                     object\n",
      "Publication.Date          datetime64[ns]\n",
      "dtype: object\n"
     ]
    }
   ],
   "source": [
    "# Re-check nulls and data types to confirm all changes\n",
    "print(\"Remaining null values:\\n\", df.isnull().sum().sort_values(ascending=False))\n",
    "print(\"\\nUpdated data types:\\n\", df.dtypes)\n"
   ]
  },
  {
   "cell_type": "markdown",
   "metadata": {},
   "source": [
    "## Step 4: Exploratory Data Analysis (EDA)\n",
    "### Objective:\n",
    "Gain insights into accident patterns by exploring temporal trends, severity, aircraft types, weather, and geographical distribution.\n",
    "\n",
    "EDA Plan:\n",
    "Overview of Target Variables\n",
    "\n",
    "Accidents Over Time\n",
    "\n",
    "Injury Severity Distribution\n",
    "\n",
    "Top Aircraft Manufacturers Involved\n",
    "\n",
    "Accidents by Weather Condition\n",
    "\n",
    "Accidents by Broad Phase of Flight\n",
    "\n",
    "Top Countries with Most Accidents"
   ]
  },
  {
   "cell_type": "markdown",
   "metadata": {},
   "source": [
    "### 4.1 Overview of Casualty Statistics\n",
    "\n",
    "We begin our analysis by exploring the distribution of casualties in aircraft accidents. This includes:\n",
    "- Fatal injuries\n",
    "- Serious injuries\n",
    "- Minor injuries\n",
    "- Uninjured individuals\n",
    "\n",
    "Understanding these distributions provides insight into the typical impact of aviation incidents.\n"
   ]
  },
  {
   "cell_type": "code",
   "execution_count": 30,
   "metadata": {},
   "outputs": [
    {
     "data": {
      "image/png": "[encoded data removed]",
      "text/plain": [
       "<Figure size 1008x432 with 4 Axes>"
      ]
     },
     "metadata": {},
     "output_type": "display_data"
    },
    {
     "data": {
      "text/plain": [
       "'\\nThese histograms give us a snapshot of the casualty spread. Many accidents have zero fatalities or injuries, while a few have high counts, indicating rare but severe incidents.\\n'"
      ]
     },
     "execution_count": 30,
     "metadata": {},
     "output_type": "execute_result"
    }
   ],
   "source": [
    "import matplotlib.pyplot as plt\n",
    "import seaborn as sns\n",
    "\n",
    "# Set seaborn style\n",
    "sns.set(style=\"whitegrid\")\n",
    "\n",
    "# Casualty columns\n",
    "casualty_cols = ['Total.Fatal.Injuries', 'Total.Serious.Injuries', 'Total.Minor.Injuries', 'Total.Uninjured']\n",
    "\n",
    "# 📊 Plot distributions\n",
    "plt.figure(figsize=(14, 6))\n",
    "for i, col in enumerate(casualty_cols):\n",
    "    plt.subplot(1, 4, i+1)\n",
    "    sns.histplot(df[col], bins=20, kde=False, color='skyblue')\n",
    "    plt.title(col.replace('.', ' '))\n",
    "    plt.xlabel('Count')\n",
    "    plt.ylabel('Frequency')\n",
    "\n",
    "plt.tight_layout()\n",
    "plt.show()\n",
    "\n",
    "\"\"\"\n",
    "These histograms give us a snapshot of the casualty spread. Many accidents have zero fatalities or injuries, while a few have high counts, indicating rare but severe incidents.\n",
    "\"\"\"\n"
   ]
  },
  {
   "cell_type": "markdown",
   "metadata": {},
   "source": [
    "## 4.2 Trends in Aviation Accidents Over Time\n",
    "\n",
    "We now explore the number of aviation accidents by year. This analysis helps us identify patterns, such as whether incidents have increased, decreased, or remained consistent over time. It also provides a historical context to safety regulations or advancements in aircraft technology.\n"
   ]
  },
  {
   "cell_type": "code",
   "execution_count": 31,
   "metadata": {},
   "outputs": [
    {
     "data": {
      "image/png": "[encoded data removed]",
      "text/plain": [
       "<Figure size 864x432 with 1 Axes>"
      ]
     },
     "metadata": {},
     "output_type": "display_data"
    },
    {
     "data": {
      "text/plain": [
       "'\\nThis line plot reveals historical patterns in aviation accidents and helps pinpoint years with significant spikes or drops.\\n'"
      ]
     },
     "execution_count": 31,
     "metadata": {},
     "output_type": "execute_result"
    }
   ],
   "source": [
    "# 🗓️ Convert 'Event.Date' to datetime (if not already done)\n",
    "df['Event.Date'] = pd.to_datetime(df['Event.Date'], errors='coerce')\n",
    "\n",
    "# 🔄 Extract Year from Event Date\n",
    "df['Year'] = df['Event.Date'].dt.year\n",
    "\n",
    "# 🧮 Count number of accidents per year\n",
    "accidents_per_year = df['Year'].value_counts().sort_index()\n",
    "\n",
    "# 📊 Plot trend of accidents over time\n",
    "plt.figure(figsize=(12, 6))\n",
    "sns.lineplot(x=accidents_per_year.index, y=accidents_per_year.values, marker='o')\n",
    "plt.title('Number of Aviation Accidents by Year')\n",
    "plt.xlabel('Year')\n",
    "plt.ylabel('Number of Accidents')\n",
    "plt.grid(True)\n",
    "plt.tight_layout()\n",
    "plt.show()\n",
    "\n",
    "\"\"\"\n",
    "This line plot reveals historical patterns in aviation accidents and helps pinpoint years with significant spikes or drops.\n",
    "\"\"\"\n"
   ]
  },
  {
   "cell_type": "markdown",
   "metadata": {},
   "source": [
    "## 4.3 Distribution of Injury Severity\n",
    "\n",
    "In this section, we explore how injury severities are distributed in aviation accidents. This will help us quantify the proportion of fatal versus non-fatal incidents and guide safety focus areas.\n"
   ]
  },
  {
   "cell_type": "code",
   "execution_count": 32,
   "metadata": {},
   "outputs": [
    {
     "data": {
      "image/png": "[encoded data removed]",
      "text/plain": [
       "<Figure size 720x360 with 1 Axes>"
      ]
     },
     "metadata": {},
     "output_type": "display_data"
    },
    {
     "data": {
      "text/plain": [
       "'\\nThis bar chart illustrates how many accidents fall into each injury severity category. \\nIt highlights the prevalence of serious vs. fatal accidents in the dataset.\\n'"
      ]
     },
     "execution_count": 32,
     "metadata": {},
     "output_type": "execute_result"
    }
   ],
   "source": [
    "# 📊 Count occurrences of each injury severity type\n",
    "severity_counts = df['Injury.Severity'].value_counts()\n",
    "\n",
    "# 📈 Plot the distribution using a bar chart\n",
    "plt.figure(figsize=(10, 5))\n",
    "sns.barplot(x=severity_counts.index, y=severity_counts.values, palette='Reds')\n",
    "plt.title('Distribution of Injury Severity in Aviation Accidents')\n",
    "plt.xlabel('Injury Severity')\n",
    "plt.ylabel('Number of Accidents')\n",
    "plt.xticks(rotation=45)\n",
    "plt.tight_layout()\n",
    "plt.show()\n",
    "\n",
    "\"\"\"\n",
    "This bar chart illustrates how many accidents fall into each injury severity category. \n",
    "It highlights the prevalence of serious vs. fatal accidents in the dataset.\n",
    "\"\"\"\n"
   ]
  },
  {
   "cell_type": "markdown",
   "metadata": {},
   "source": [
    "## 4.4 Accidents by Aircraft Manufacturer\n",
    "\n",
    "We now analyze which aircraft manufacturers appear most frequently in the accident reports. This may help highlight manufacturers whose aircraft are more likely to be involved in accidents — either due to widespread use or other factors.\n"
   ]
  },
  {
   "cell_type": "code",
   "execution_count": null,
   "metadata": {},
   "outputs": [],
   "source": [
    "# 🔝 Top 10 most common aircraft manufacturers in accidents\n",
    "top_makes = df['Make'].value_counts().head(10)\n",
    "\n",
    "# 📊 Plot as horizontal bar chart\n",
    "plt.figure(figsize=(10, 6))\n",
    "sns.barplot(x=top_makes.values, y=top_makes.index, palette='Blues_d')\n",
    "plt.title('Top 10 Aircraft Manufacturers Involved in Accidents')\n",
    "plt.xlabel('Number of Accidents')\n",
    "plt.ylabel('Aircraft Manufacturer')\n",
    "plt.tight_layout()\n",
    "plt.show()\n",
    "\n",
    "\"\"\"\n",
    "This horizontal bar chart shows the most frequently reported aircraft manufacturers in accident records.\n",
    "It helps identify whether certain makes dominate the dataset — possibly due to market share or other reasons.\n",
    "\"\"\"\n"
   ]
  }
 ],
 "metadata": {
  "kernelspec": {
   "display_name": "Python (learn-env)",
   "language": "python",
   "name": "learn-env"
  },
  "language_info": {
   "codemirror_mode": {
    "name": "ipython",
    "version": 3
   },
   "file_extension": ".py",
   "mimetype": "text/x-python",
   "name": "python",
   "nbconvert_exporter": "python",
   "pygments_lexer": "ipython3",
   "version": "3.8.5"
  }
 },
 "nbformat": 4,
 "nbformat_minor": 4
}
